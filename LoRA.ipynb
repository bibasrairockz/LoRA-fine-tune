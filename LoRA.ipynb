{
  "cells": [
    {
      "cell_type": "markdown",
      "id": "be94e6d6-4096-4d1a-aa58-5afd89f33bff",
      "metadata": {
        "id": "be94e6d6-4096-4d1a-aa58-5afd89f33bff"
      },
      "source": [
        "# Fine-tuning Sandbox"
      ]
    },
    {
      "cell_type": "code",
      "source": [
        "!pip install datasets\n",
        "!pip install peft\n",
        "!pip install evaluate\n",
        "!pip install -U accelerate\n",
        "!pip install -U transformers"
      ],
      "metadata": {
        "id": "nR_Qw1PFbw-K"
      },
      "id": "nR_Qw1PFbw-K",
      "execution_count": null,
      "outputs": []
    },
    {
      "cell_type": "code",
      "execution_count": 2,
      "id": "4ef8ea85-d04d-4217-99a3-21c446bf2ffa",
      "metadata": {
        "id": "4ef8ea85-d04d-4217-99a3-21c446bf2ffa"
      },
      "outputs": [],
      "source": [
        "from datasets import load_dataset, DatasetDict, Dataset\n",
        "\n",
        "from transformers import (\n",
        "    AutoTokenizer,\n",
        "    AutoConfig,\n",
        "    AutoModelForSequenceClassification,\n",
        "    DataCollatorWithPadding,\n",
        "    TrainingArguments,\n",
        "    Trainer)\n",
        "\n",
        "from peft import PeftModel, PeftConfig, get_peft_model, LoraConfig\n",
        "import evaluate\n",
        "import torch\n",
        "import numpy as np"
      ]
    },
    {
      "cell_type": "markdown",
      "id": "aa6a4484-07d8-49dd-81ef-672105f53ebe",
      "metadata": {
        "id": "aa6a4484-07d8-49dd-81ef-672105f53ebe"
      },
      "source": [
        "### dataset"
      ]
    },
    {
      "cell_type": "code",
      "execution_count": null,
      "id": "fa9722d3-0609-4aea-9585-9aa2cfc1fc9a",
      "metadata": {
        "jupyter": {
          "source_hidden": true
        },
        "id": "fa9722d3-0609-4aea-9585-9aa2cfc1fc9a"
      },
      "outputs": [],
      "source": [
        "# # how dataset was generated\n",
        "\n",
        "# # load imdb data\n",
        "# imdb_dataset = load_dataset(\"imdb\")\n",
        "\n",
        "# # define subsample size\n",
        "# N = 1000\n",
        "# # generate indexes for random subsample\n",
        "# rand_idx = np.random.randint(24999, size=N)\n",
        "\n",
        "# # extract train and test data\n",
        "# x_train = imdb_dataset['train'][rand_idx]['text']\n",
        "# y_train = imdb_dataset['train'][rand_idx]['label']\n",
        "\n",
        "# x_test = imdb_dataset['test'][rand_idx]['text']\n",
        "# y_test = imdb_dataset['test'][rand_idx]['label']\n",
        "\n",
        "# # create new dataset\n",
        "# dataset = DatasetDict({'train':Dataset.from_dict({'label':y_train,'text':x_train}),\n",
        "#                              'validation':Dataset.from_dict({'label':y_test,'text':x_test})})"
      ]
    },
    {
      "cell_type": "code",
      "execution_count": 3,
      "id": "de226234-c521-4577-802c-0e7079ef4364",
      "metadata": {
        "colab": {
          "base_uri": "https://localhost:8080/",
          "height": 0
        },
        "id": "de226234-c521-4577-802c-0e7079ef4364",
        "outputId": "e493ddf6-b390-483f-8d97-78246affd05d"
      },
      "outputs": [
        {
          "output_type": "stream",
          "name": "stderr",
          "text": [
            "/usr/local/lib/python3.10/dist-packages/huggingface_hub/utils/_token.py:89: UserWarning: \n",
            "The secret `HF_TOKEN` does not exist in your Colab secrets.\n",
            "To authenticate with the Hugging Face Hub, create a token in your settings tab (https://huggingface.co/settings/tokens), set it as secret in your Google Colab and restart your session.\n",
            "You will be able to reuse this secret in all of your notebooks.\n",
            "Please note that authentication is recommended but still optional to access public models or datasets.\n",
            "  warnings.warn(\n"
          ]
        },
        {
          "output_type": "execute_result",
          "data": {
            "text/plain": [
              "DatasetDict({\n",
              "    train: Dataset({\n",
              "        features: ['label', 'text'],\n",
              "        num_rows: 1000\n",
              "    })\n",
              "    validation: Dataset({\n",
              "        features: ['label', 'text'],\n",
              "        num_rows: 1000\n",
              "    })\n",
              "})"
            ]
          },
          "metadata": {},
          "execution_count": 3
        }
      ],
      "source": [
        "# load dataset\n",
        "dataset = load_dataset('shawhin/imdb-truncated')\n",
        "dataset"
      ]
    },
    {
      "cell_type": "code",
      "execution_count": 4,
      "id": "d5625faa-5fea-4334-bd38-b77de983d8a8",
      "metadata": {
        "colab": {
          "base_uri": "https://localhost:8080/",
          "height": 0
        },
        "id": "d5625faa-5fea-4334-bd38-b77de983d8a8",
        "outputId": "ed2dc63d-41b5-47cd-d27f-3c9bb7b5201f"
      },
      "outputs": [
        {
          "output_type": "execute_result",
          "data": {
            "text/plain": [
              "0.5"
            ]
          },
          "metadata": {},
          "execution_count": 4
        }
      ],
      "source": [
        "# display % of training data with label=1\n",
        "np.array(dataset['train']['label']).sum()/len(dataset['train']['label'])"
      ]
    },
    {
      "cell_type": "markdown",
      "id": "3644c68d-9adf-48a4-90a2-8fd89555a302",
      "metadata": {
        "id": "3644c68d-9adf-48a4-90a2-8fd89555a302"
      },
      "source": [
        "### model"
      ]
    },
    {
      "cell_type": "code",
      "execution_count": 5,
      "id": "a60dd1fe-8144-4678-b018-20891e49237a",
      "metadata": {
        "colab": {
          "base_uri": "https://localhost:8080/",
          "height": 0
        },
        "id": "a60dd1fe-8144-4678-b018-20891e49237a",
        "outputId": "3a43d8aa-36d4-4a9c-ec28-2d25422f6099"
      },
      "outputs": [
        {
          "output_type": "stream",
          "name": "stderr",
          "text": [
            "Some weights of DistilBertForSequenceClassification were not initialized from the model checkpoint at distilbert-base-uncased and are newly initialized: ['classifier.bias', 'classifier.weight', 'pre_classifier.bias', 'pre_classifier.weight']\n",
            "You should probably TRAIN this model on a down-stream task to be able to use it for predictions and inference.\n"
          ]
        }
      ],
      "source": [
        "model_checkpoint = 'distilbert-base-uncased'\n",
        "# model_checkpoint = 'roberta-base' # you can alternatively use roberta-base but this model is bigger thus training will take longer\n",
        "\n",
        "# define label maps\n",
        "id2label = {0: \"Negative\", 1: \"Positive\"}\n",
        "label2id = {\"Negative\":0, \"Positive\":1}\n",
        "\n",
        "# generate classification model from model_checkpoint\n",
        "model = AutoModelForSequenceClassification.from_pretrained(\n",
        "    model_checkpoint, num_labels=2, id2label=id2label, label2id=label2id)"
      ]
    },
    {
      "cell_type": "code",
      "execution_count": 6,
      "id": "853002f8-d39c-4bc4-8d07-e44a47de3b47",
      "metadata": {
        "colab": {
          "base_uri": "https://localhost:8080/",
          "height": 0
        },
        "id": "853002f8-d39c-4bc4-8d07-e44a47de3b47",
        "outputId": "12a8669b-6aa5-4b1d-9bf4-106569f316f8"
      },
      "outputs": [
        {
          "output_type": "execute_result",
          "data": {
            "text/plain": [
              "DistilBertForSequenceClassification(\n",
              "  (distilbert): DistilBertModel(\n",
              "    (embeddings): Embeddings(\n",
              "      (word_embeddings): Embedding(30522, 768, padding_idx=0)\n",
              "      (position_embeddings): Embedding(512, 768)\n",
              "      (LayerNorm): LayerNorm((768,), eps=1e-12, elementwise_affine=True)\n",
              "      (dropout): Dropout(p=0.1, inplace=False)\n",
              "    )\n",
              "    (transformer): Transformer(\n",
              "      (layer): ModuleList(\n",
              "        (0-5): 6 x TransformerBlock(\n",
              "          (attention): MultiHeadSelfAttention(\n",
              "            (dropout): Dropout(p=0.1, inplace=False)\n",
              "            (q_lin): Linear(in_features=768, out_features=768, bias=True)\n",
              "            (k_lin): Linear(in_features=768, out_features=768, bias=True)\n",
              "            (v_lin): Linear(in_features=768, out_features=768, bias=True)\n",
              "            (out_lin): Linear(in_features=768, out_features=768, bias=True)\n",
              "          )\n",
              "          (sa_layer_norm): LayerNorm((768,), eps=1e-12, elementwise_affine=True)\n",
              "          (ffn): FFN(\n",
              "            (dropout): Dropout(p=0.1, inplace=False)\n",
              "            (lin1): Linear(in_features=768, out_features=3072, bias=True)\n",
              "            (lin2): Linear(in_features=3072, out_features=768, bias=True)\n",
              "            (activation): GELUActivation()\n",
              "          )\n",
              "          (output_layer_norm): LayerNorm((768,), eps=1e-12, elementwise_affine=True)\n",
              "        )\n",
              "      )\n",
              "    )\n",
              "  )\n",
              "  (pre_classifier): Linear(in_features=768, out_features=768, bias=True)\n",
              "  (classifier): Linear(in_features=768, out_features=2, bias=True)\n",
              "  (dropout): Dropout(p=0.2, inplace=False)\n",
              ")"
            ]
          },
          "metadata": {},
          "execution_count": 6
        }
      ],
      "source": [
        "# display architecture\n",
        "model"
      ]
    },
    {
      "cell_type": "markdown",
      "id": "4bc98609-873d-455c-bac4-155632cda484",
      "metadata": {
        "id": "4bc98609-873d-455c-bac4-155632cda484"
      },
      "source": [
        "### preprocess data"
      ]
    },
    {
      "cell_type": "code",
      "execution_count": 7,
      "id": "7fe08707-657f-4e66-aa72-84899c54bf8d",
      "metadata": {
        "id": "7fe08707-657f-4e66-aa72-84899c54bf8d"
      },
      "outputs": [],
      "source": [
        "# create tokenizer\n",
        "tokenizer = AutoTokenizer.from_pretrained(model_checkpoint, add_prefix_space=True)\n",
        "\n",
        "# add pad token if none exists\n",
        "if tokenizer.pad_token is None:\n",
        "    tokenizer.add_special_tokens({'pad_token': '[PAD]'})\n",
        "    model.resize_token_embeddings(len(tokenizer))"
      ]
    },
    {
      "cell_type": "code",
      "execution_count": 8,
      "id": "20f4adb9-ce8f-4f54-9b94-300c9daae1b8",
      "metadata": {
        "id": "20f4adb9-ce8f-4f54-9b94-300c9daae1b8"
      },
      "outputs": [],
      "source": [
        "# create tokenize function\n",
        "def tokenize_function(examples):\n",
        "    # extract text\n",
        "    text = examples[\"text\"]\n",
        "\n",
        "    #tokenize and truncate text\n",
        "    tokenizer.truncation_side = \"left\"\n",
        "    tokenized_inputs = tokenizer(\n",
        "        text,\n",
        "        return_tensors=\"np\",\n",
        "        truncation=True,\n",
        "        max_length=512\n",
        "    )\n",
        "\n",
        "    return tokenized_inputs"
      ]
    },
    {
      "cell_type": "code",
      "execution_count": 9,
      "id": "b7600bcd-7e93-4fb4-bd8d-ffc76bed1ac2",
      "metadata": {
        "colab": {
          "base_uri": "https://localhost:8080/",
          "height": 223,
          "referenced_widgets": [
            "3f2fcc6c7777458ab79445489cf2e544",
            "5004167b36444ea2a4bf265aca3e0240",
            "bdd6d058ac1748e38fbbd922519f87e2",
            "f8866c40f6014aa8a24c48913817aabc",
            "78005764503e4a3da729392f239eabda",
            "0903e5b8217f47baad65e57e1d1c1e66",
            "a5bbc142d6724dbc973ebd213c83ec65",
            "8964a67e5d1246eb94a59b321e490cf4",
            "42a329337df246758fc703ecfa989cbb",
            "057f8a8bcd3644ebb48ea1c49b97f62d",
            "86db99b31ff54e86921f12f35d3efcd5"
          ]
        },
        "id": "b7600bcd-7e93-4fb4-bd8d-ffc76bed1ac2",
        "outputId": "f492296b-35dd-480e-8656-2a58c1f764b0"
      },
      "outputs": [
        {
          "output_type": "display_data",
          "data": {
            "text/plain": [
              "Map:   0%|          | 0/1000 [00:00<?, ? examples/s]"
            ],
            "application/vnd.jupyter.widget-view+json": {
              "version_major": 2,
              "version_minor": 0,
              "model_id": "3f2fcc6c7777458ab79445489cf2e544"
            }
          },
          "metadata": {}
        },
        {
          "output_type": "execute_result",
          "data": {
            "text/plain": [
              "DatasetDict({\n",
              "    train: Dataset({\n",
              "        features: ['label', 'text', 'input_ids', 'attention_mask'],\n",
              "        num_rows: 1000\n",
              "    })\n",
              "    validation: Dataset({\n",
              "        features: ['label', 'text', 'input_ids', 'attention_mask'],\n",
              "        num_rows: 1000\n",
              "    })\n",
              "})"
            ]
          },
          "metadata": {},
          "execution_count": 9
        }
      ],
      "source": [
        "# tokenize training and validation datasets\n",
        "tokenized_dataset = dataset.map(tokenize_function, batched=True)\n",
        "tokenized_dataset"
      ]
    },
    {
      "cell_type": "code",
      "execution_count": 10,
      "id": "3f8e85f9-1804-4f49-a783-4da59580ea1e",
      "metadata": {
        "id": "3f8e85f9-1804-4f49-a783-4da59580ea1e"
      },
      "outputs": [],
      "source": [
        "# create data collator\n",
        "data_collator = DataCollatorWithPadding(tokenizer=tokenizer)"
      ]
    },
    {
      "cell_type": "markdown",
      "id": "3cd9a120-580d-470c-a981-7c7e22604865",
      "metadata": {
        "id": "3cd9a120-580d-470c-a981-7c7e22604865"
      },
      "source": [
        "### evaluation"
      ]
    },
    {
      "cell_type": "code",
      "execution_count": 11,
      "id": "2a894819-2e9c-4a53-9790-32130c182bca",
      "metadata": {
        "id": "2a894819-2e9c-4a53-9790-32130c182bca"
      },
      "outputs": [],
      "source": [
        "# import accuracy evaluation metric\n",
        "accuracy = evaluate.load(\"accuracy\")"
      ]
    },
    {
      "cell_type": "code",
      "execution_count": 12,
      "id": "c07b9be2-a3f6-4b38-b9e8-6a2bc8aa945a",
      "metadata": {
        "id": "c07b9be2-a3f6-4b38-b9e8-6a2bc8aa945a"
      },
      "outputs": [],
      "source": [
        "# define an evaluation function to pass into trainer later\n",
        "def compute_metrics(p):\n",
        "    predictions, labels = p\n",
        "    predictions = np.argmax(predictions, axis=1)\n",
        "\n",
        "    return {\"accuracy\": accuracy.compute(predictions=predictions, references=labels)}"
      ]
    },
    {
      "cell_type": "markdown",
      "id": "47500035-a555-46e0-83dc-440586d96b7e",
      "metadata": {
        "id": "47500035-a555-46e0-83dc-440586d96b7e"
      },
      "source": [
        "### Apply untrained model to text"
      ]
    },
    {
      "cell_type": "code",
      "execution_count": 15,
      "id": "8f3761c1-a297-45c8-882e-d74856259810",
      "metadata": {
        "colab": {
          "base_uri": "https://localhost:8080/",
          "height": 0
        },
        "id": "8f3761c1-a297-45c8-882e-d74856259810",
        "outputId": "c9739616-6463-464c-db01-1a0c47a09c12"
      },
      "outputs": [
        {
          "output_type": "stream",
          "name": "stdout",
          "text": [
            "Untrained model predictions:\n",
            "----------------------------\n",
            "It was good. - Positive\n",
            "Not a fan, don't recommed. - Positive\n",
            "Better than the first one. - Positive\n",
            "This is not worth watching even once. - Positive\n",
            "This one is a pass. - Positive\n"
          ]
        }
      ],
      "source": [
        "# define list of examples\n",
        "text_list = [\"It was good.\", \"Not a fan, don't recommed.\", \"Better than the first one.\", \"This is not worth watching even once.\", \"This one is a pass.\"]\n",
        "\n",
        "print(\"Untrained model predictions:\")\n",
        "print(\"----------------------------\")\n",
        "for text in text_list:\n",
        "    # tokenize text\n",
        "    inputs = tokenizer.encode(text, return_tensors=\"pt\")\n",
        "    # compute logits\n",
        "    logits = model(inputs).logits\n",
        "    # convert logits to label\n",
        "    predictions = torch.argmax(logits)\n",
        "\n",
        "    print(text + \" - \" + id2label[predictions.tolist()])"
      ]
    },
    {
      "cell_type": "markdown",
      "id": "ff356f78-c9fd-4f2b-8f5b-097cf29c1c08",
      "metadata": {
        "id": "ff356f78-c9fd-4f2b-8f5b-097cf29c1c08"
      },
      "source": [
        "### Train model"
      ]
    },
    {
      "cell_type": "code",
      "execution_count": 16,
      "id": "e4dde538-cd7f-4ab5-a96d-c30f3003822e",
      "metadata": {
        "id": "e4dde538-cd7f-4ab5-a96d-c30f3003822e"
      },
      "outputs": [],
      "source": [
        "peft_config = LoraConfig(task_type=\"SEQ_CLS\",\n",
        "                        r=4,\n",
        "                        lora_alpha=32,\n",
        "                        lora_dropout=0.01,\n",
        "                        target_modules = ['q_lin'])"
      ]
    },
    {
      "cell_type": "code",
      "execution_count": 17,
      "id": "f1391303-1e16-4d5c-b2b4-799997eff9f8",
      "metadata": {
        "colab": {
          "base_uri": "https://localhost:8080/",
          "height": 0
        },
        "id": "f1391303-1e16-4d5c-b2b4-799997eff9f8",
        "outputId": "5628d1b6-f3e5-4c99-b66e-df9c23aef46e"
      },
      "outputs": [
        {
          "output_type": "execute_result",
          "data": {
            "text/plain": [
              "LoraConfig(peft_type=<PeftType.LORA: 'LORA'>, auto_mapping=None, base_model_name_or_path=None, revision=None, task_type='SEQ_CLS', inference_mode=False, r=4, target_modules={'q_lin'}, lora_alpha=32, lora_dropout=0.01, fan_in_fan_out=False, bias='none', use_rslora=False, modules_to_save=None, init_lora_weights=True, layers_to_transform=None, layers_pattern=None, rank_pattern={}, alpha_pattern={}, megatron_config=None, megatron_core='megatron.core', loftq_config={}, use_dora=False, layer_replication=None)"
            ]
          },
          "metadata": {},
          "execution_count": 17
        }
      ],
      "source": [
        "peft_config"
      ]
    },
    {
      "cell_type": "code",
      "execution_count": 18,
      "id": "3e0d9408-9fc4-4bd3-8d35-4d8217fe01e2",
      "metadata": {
        "colab": {
          "base_uri": "https://localhost:8080/",
          "height": 0
        },
        "id": "3e0d9408-9fc4-4bd3-8d35-4d8217fe01e2",
        "outputId": "382f71e1-4819-4e0f-f384-90ae5079b855"
      },
      "outputs": [
        {
          "output_type": "stream",
          "name": "stdout",
          "text": [
            "trainable params: 628,994 || all params: 67,584,004 || trainable%: 0.9306847223789819\n"
          ]
        }
      ],
      "source": [
        "model = get_peft_model(model, peft_config)\n",
        "model.print_trainable_parameters()"
      ]
    },
    {
      "cell_type": "code",
      "execution_count": 19,
      "id": "5db78059-e5ae-4807-89db-b58ef6abedd1",
      "metadata": {
        "id": "5db78059-e5ae-4807-89db-b58ef6abedd1"
      },
      "outputs": [],
      "source": [
        "# hyperparameters\n",
        "lr = 1e-3\n",
        "batch_size = 4\n",
        "num_epochs = 10"
      ]
    },
    {
      "cell_type": "code",
      "execution_count": 20,
      "id": "9244ed55-65a4-4c66-8388-55efd87bceb8",
      "metadata": {
        "id": "9244ed55-65a4-4c66-8388-55efd87bceb8"
      },
      "outputs": [],
      "source": [
        "# define training arguments\n",
        "training_args = TrainingArguments(\n",
        "    output_dir= model_checkpoint + \"-lora-text-classification\",\n",
        "    learning_rate=lr,\n",
        "    per_device_train_batch_size=batch_size,\n",
        "    per_device_eval_batch_size=batch_size,\n",
        "    num_train_epochs=num_epochs,\n",
        "    weight_decay=0.01,\n",
        "    evaluation_strategy=\"epoch\",\n",
        "    save_strategy=\"epoch\",\n",
        "    load_best_model_at_end=True,\n",
        ")"
      ]
    },
    {
      "cell_type": "code",
      "execution_count": 21,
      "id": "fc8bc705-5dd7-4305-a797-399b2b0fa2c7",
      "metadata": {
        "colab": {
          "base_uri": "https://localhost:8080/",
          "height": 597
        },
        "id": "fc8bc705-5dd7-4305-a797-399b2b0fa2c7",
        "outputId": "5a8b387f-5124-4213-dab2-146ac84d8acd"
      },
      "outputs": [
        {
          "output_type": "display_data",
          "data": {
            "text/plain": [
              "<IPython.core.display.HTML object>"
            ],
            "text/html": [
              "\n",
              "    <div>\n",
              "      \n",
              "      <progress value='2500' max='2500' style='width:300px; height:20px; vertical-align: middle;'></progress>\n",
              "      [2500/2500 08:25, Epoch 10/10]\n",
              "    </div>\n",
              "    <table border=\"1\" class=\"dataframe\">\n",
              "  <thead>\n",
              " <tr style=\"text-align: left;\">\n",
              "      <th>Epoch</th>\n",
              "      <th>Training Loss</th>\n",
              "      <th>Validation Loss</th>\n",
              "      <th>Accuracy</th>\n",
              "    </tr>\n",
              "  </thead>\n",
              "  <tbody>\n",
              "    <tr>\n",
              "      <td>1</td>\n",
              "      <td>No log</td>\n",
              "      <td>0.412346</td>\n",
              "      <td>{'accuracy': 0.872}</td>\n",
              "    </tr>\n",
              "    <tr>\n",
              "      <td>2</td>\n",
              "      <td>0.441400</td>\n",
              "      <td>0.464293</td>\n",
              "      <td>{'accuracy': 0.882}</td>\n",
              "    </tr>\n",
              "    <tr>\n",
              "      <td>3</td>\n",
              "      <td>0.441400</td>\n",
              "      <td>0.546323</td>\n",
              "      <td>{'accuracy': 0.897}</td>\n",
              "    </tr>\n",
              "    <tr>\n",
              "      <td>4</td>\n",
              "      <td>0.189300</td>\n",
              "      <td>0.719181</td>\n",
              "      <td>{'accuracy': 0.874}</td>\n",
              "    </tr>\n",
              "    <tr>\n",
              "      <td>5</td>\n",
              "      <td>0.189300</td>\n",
              "      <td>0.754573</td>\n",
              "      <td>{'accuracy': 0.887}</td>\n",
              "    </tr>\n",
              "    <tr>\n",
              "      <td>6</td>\n",
              "      <td>0.064600</td>\n",
              "      <td>0.822000</td>\n",
              "      <td>{'accuracy': 0.889}</td>\n",
              "    </tr>\n",
              "    <tr>\n",
              "      <td>7</td>\n",
              "      <td>0.064600</td>\n",
              "      <td>0.849524</td>\n",
              "      <td>{'accuracy': 0.902}</td>\n",
              "    </tr>\n",
              "    <tr>\n",
              "      <td>8</td>\n",
              "      <td>0.022000</td>\n",
              "      <td>0.851918</td>\n",
              "      <td>{'accuracy': 0.898}</td>\n",
              "    </tr>\n",
              "    <tr>\n",
              "      <td>9</td>\n",
              "      <td>0.022000</td>\n",
              "      <td>0.894615</td>\n",
              "      <td>{'accuracy': 0.895}</td>\n",
              "    </tr>\n",
              "    <tr>\n",
              "      <td>10</td>\n",
              "      <td>0.003300</td>\n",
              "      <td>0.904211</td>\n",
              "      <td>{'accuracy': 0.894}</td>\n",
              "    </tr>\n",
              "  </tbody>\n",
              "</table><p>"
            ]
          },
          "metadata": {}
        },
        {
          "output_type": "stream",
          "name": "stderr",
          "text": [
            "Trainer is attempting to log a value of \"{'accuracy': 0.872}\" of type <class 'dict'> for key \"eval/accuracy\" as a scalar. This invocation of Tensorboard's writer.add_scalar() is incorrect so we dropped this attribute.\n",
            "Trainer is attempting to log a value of \"{'accuracy': 0.882}\" of type <class 'dict'> for key \"eval/accuracy\" as a scalar. This invocation of Tensorboard's writer.add_scalar() is incorrect so we dropped this attribute.\n",
            "Trainer is attempting to log a value of \"{'accuracy': 0.897}\" of type <class 'dict'> for key \"eval/accuracy\" as a scalar. This invocation of Tensorboard's writer.add_scalar() is incorrect so we dropped this attribute.\n",
            "Trainer is attempting to log a value of \"{'accuracy': 0.874}\" of type <class 'dict'> for key \"eval/accuracy\" as a scalar. This invocation of Tensorboard's writer.add_scalar() is incorrect so we dropped this attribute.\n",
            "Trainer is attempting to log a value of \"{'accuracy': 0.887}\" of type <class 'dict'> for key \"eval/accuracy\" as a scalar. This invocation of Tensorboard's writer.add_scalar() is incorrect so we dropped this attribute.\n",
            "Trainer is attempting to log a value of \"{'accuracy': 0.889}\" of type <class 'dict'> for key \"eval/accuracy\" as a scalar. This invocation of Tensorboard's writer.add_scalar() is incorrect so we dropped this attribute.\n",
            "Trainer is attempting to log a value of \"{'accuracy': 0.902}\" of type <class 'dict'> for key \"eval/accuracy\" as a scalar. This invocation of Tensorboard's writer.add_scalar() is incorrect so we dropped this attribute.\n",
            "Trainer is attempting to log a value of \"{'accuracy': 0.898}\" of type <class 'dict'> for key \"eval/accuracy\" as a scalar. This invocation of Tensorboard's writer.add_scalar() is incorrect so we dropped this attribute.\n",
            "Trainer is attempting to log a value of \"{'accuracy': 0.895}\" of type <class 'dict'> for key \"eval/accuracy\" as a scalar. This invocation of Tensorboard's writer.add_scalar() is incorrect so we dropped this attribute.\n",
            "Trainer is attempting to log a value of \"{'accuracy': 0.894}\" of type <class 'dict'> for key \"eval/accuracy\" as a scalar. This invocation of Tensorboard's writer.add_scalar() is incorrect so we dropped this attribute.\n"
          ]
        },
        {
          "output_type": "execute_result",
          "data": {
            "text/plain": [
              "TrainOutput(global_step=2500, training_loss=0.14411003918647766, metrics={'train_runtime': 506.947, 'train_samples_per_second': 19.726, 'train_steps_per_second': 4.931, 'total_flos': 1112883852759936.0, 'train_loss': 0.14411003918647766, 'epoch': 10.0})"
            ]
          },
          "metadata": {},
          "execution_count": 21
        }
      ],
      "source": [
        "# creater trainer object\n",
        "trainer = Trainer(\n",
        "    model=model,\n",
        "    args=training_args,\n",
        "    train_dataset=tokenized_dataset[\"train\"],\n",
        "    eval_dataset=tokenized_dataset[\"validation\"],\n",
        "    tokenizer=tokenizer,\n",
        "    data_collator=data_collator, # this will dynamically pad examples in each batch to be equal length\n",
        "    compute_metrics=compute_metrics,\n",
        ")\n",
        "\n",
        "# train model\n",
        "trainer.train()"
      ]
    },
    {
      "cell_type": "markdown",
      "id": "6f5664d1-9bd2-4ce1-bc24-cab5adf80f49",
      "metadata": {
        "id": "6f5664d1-9bd2-4ce1-bc24-cab5adf80f49"
      },
      "source": [
        "### Generate prediction"
      ]
    },
    {
      "cell_type": "code",
      "execution_count": null,
      "id": "e5dc029e-1c16-491d-a3f1-715f9e0adf52",
      "metadata": {
        "id": "e5dc029e-1c16-491d-a3f1-715f9e0adf52"
      },
      "outputs": [],
      "source": [
        "model.to('mps')\n",
        "\n",
        "print(\"Trained model predictions:\")\n",
        "print(\"--------------------------\")\n",
        "for text in text_list:\n",
        "    inputs = tokenizer.encode(text, return_tensors=\"pt\").to(\"mps\")\n",
        "\n",
        "    logits = model(inputs).logits\n",
        "    predictions = torch.max(logits,1).indices\n",
        "\n",
        "    print(text + \" - \" + id2label[predictions.tolist()[0]])"
      ]
    },
    {
      "cell_type": "code",
      "source": [
        "import platform\n",
        "print(platform.platform())"
      ],
      "metadata": {
        "colab": {
          "base_uri": "https://localhost:8080/",
          "height": 0
        },
        "id": "d2tAdlXliUjC",
        "outputId": "0fbd3453-1c77-4981-fee4-db9fc8fb2a9e"
      },
      "id": "d2tAdlXliUjC",
      "execution_count": 24,
      "outputs": [
        {
          "output_type": "stream",
          "name": "stdout",
          "text": [
            "Linux-6.1.58+-x86_64-with-glibc2.35\n"
          ]
        }
      ]
    },
    {
      "cell_type": "markdown",
      "id": "c084bd9e-f7b1-4979-b753-73335ee0cede",
      "metadata": {
        "id": "c084bd9e-f7b1-4979-b753-73335ee0cede"
      },
      "source": [
        "### Optional: push model to hub"
      ]
    },
    {
      "cell_type": "code",
      "execution_count": null,
      "id": "159eb49a-dd0d-4c9e-b9ab-27e06585fd84",
      "metadata": {
        "id": "159eb49a-dd0d-4c9e-b9ab-27e06585fd84"
      },
      "outputs": [],
      "source": [
        "# option 1: notebook login\n",
        "from huggingface_hub import notebook_login\n",
        "notebook_login() # ensure token gives write access\n",
        "\n",
        "# # option 2: key login\n",
        "# from huggingface_hub import login\n",
        "# write_key = 'hf_' # paste token here\n",
        "# login(write_key)"
      ]
    },
    {
      "cell_type": "code",
      "execution_count": null,
      "id": "09496307-e253-47e3-a46f-3f28a84c89a7",
      "metadata": {
        "id": "09496307-e253-47e3-a46f-3f28a84c89a7"
      },
      "outputs": [],
      "source": [
        "hf_name = 'bibasrai'\n",
        "model_id = hf_name + \"/\" + model_checkpoint + \"-lora-movie-text-classification\" # name the model"
      ]
    },
    {
      "cell_type": "code",
      "execution_count": null,
      "id": "c56ea581-0ea3-45f3-af21-362e9093ee37",
      "metadata": {
        "id": "c56ea581-0ea3-45f3-af21-362e9093ee37"
      },
      "outputs": [],
      "source": [
        "model.push_to_hub(model_id) # save model"
      ]
    },
    {
      "cell_type": "code",
      "execution_count": null,
      "id": "f487331a-8552-4fb2-867f-985b8fe1d1ab",
      "metadata": {
        "id": "f487331a-8552-4fb2-867f-985b8fe1d1ab"
      },
      "outputs": [],
      "source": [
        "trainer.push_to_hub(model_id) # save trainer"
      ]
    },
    {
      "cell_type": "markdown",
      "id": "00e7feaa-b70e-4b1d-a118-23c616d14639",
      "metadata": {
        "id": "00e7feaa-b70e-4b1d-a118-23c616d14639"
      },
      "source": [
        "### load peft model"
      ]
    },
    {
      "cell_type": "code",
      "execution_count": null,
      "id": "19cffa01-25a4-4c86-a7fa-a84353b8caae",
      "metadata": {
        "id": "19cffa01-25a4-4c86-a7fa-a84353b8caae"
      },
      "outputs": [],
      "source": [
        "# how to load peft model from hub for inference\n",
        "config = PeftConfig.from_pretrained(model_id)\n",
        "inference_model = AutoModelForSequenceClassification.from_pretrained(\n",
        "    config.base_model_name_or_path, num_labels=2, id2label=id2label, label2id=label2id\n",
        ")\n",
        "tokenizer = AutoTokenizer.from_pretrained(config.base_model_name_or_path)\n",
        "model = PeftModel.from_pretrained(inference_model, model_id)"
      ]
    },
    {
      "cell_type": "code",
      "execution_count": null,
      "id": "77c6ed42-8ec3-4343-9e42-405feac052ba",
      "metadata": {
        "id": "77c6ed42-8ec3-4343-9e42-405feac052ba"
      },
      "outputs": [],
      "source": []
    }
  ],
  "metadata": {
    "kernelspec": {
      "display_name": "Python 3",
      "name": "python3"
    },
    "language_info": {
      "codemirror_mode": {
        "name": "ipython",
        "version": 3
      },
      "file_extension": ".py",
      "mimetype": "text/x-python",
      "name": "python",
      "nbconvert_exporter": "python",
      "pygments_lexer": "ipython3",
      "version": "3.11.4"
    },
    "colab": {
      "provenance": [],
      "gpuType": "T4"
    },
    "accelerator": "GPU",
    "widgets": {
      "application/vnd.jupyter.widget-state+json": {
        "3f2fcc6c7777458ab79445489cf2e544": {
          "model_module": "@jupyter-widgets/controls",
          "model_name": "HBoxModel",
          "model_module_version": "1.5.0",
          "state": {
            "_dom_classes": [],
            "_model_module": "@jupyter-widgets/controls",
            "_model_module_version": "1.5.0",
            "_model_name": "HBoxModel",
            "_view_count": null,
            "_view_module": "@jupyter-widgets/controls",
            "_view_module_version": "1.5.0",
            "_view_name": "HBoxView",
            "box_style": "",
            "children": [
              "IPY_MODEL_5004167b36444ea2a4bf265aca3e0240",
              "IPY_MODEL_bdd6d058ac1748e38fbbd922519f87e2",
              "IPY_MODEL_f8866c40f6014aa8a24c48913817aabc"
            ],
            "layout": "IPY_MODEL_78005764503e4a3da729392f239eabda"
          }
        },
        "5004167b36444ea2a4bf265aca3e0240": {
          "model_module": "@jupyter-widgets/controls",
          "model_name": "HTMLModel",
          "model_module_version": "1.5.0",
          "state": {
            "_dom_classes": [],
            "_model_module": "@jupyter-widgets/controls",
            "_model_module_version": "1.5.0",
            "_model_name": "HTMLModel",
            "_view_count": null,
            "_view_module": "@jupyter-widgets/controls",
            "_view_module_version": "1.5.0",
            "_view_name": "HTMLView",
            "description": "",
            "description_tooltip": null,
            "layout": "IPY_MODEL_0903e5b8217f47baad65e57e1d1c1e66",
            "placeholder": "​",
            "style": "IPY_MODEL_a5bbc142d6724dbc973ebd213c83ec65",
            "value": "Map: 100%"
          }
        },
        "bdd6d058ac1748e38fbbd922519f87e2": {
          "model_module": "@jupyter-widgets/controls",
          "model_name": "FloatProgressModel",
          "model_module_version": "1.5.0",
          "state": {
            "_dom_classes": [],
            "_model_module": "@jupyter-widgets/controls",
            "_model_module_version": "1.5.0",
            "_model_name": "FloatProgressModel",
            "_view_count": null,
            "_view_module": "@jupyter-widgets/controls",
            "_view_module_version": "1.5.0",
            "_view_name": "ProgressView",
            "bar_style": "success",
            "description": "",
            "description_tooltip": null,
            "layout": "IPY_MODEL_8964a67e5d1246eb94a59b321e490cf4",
            "max": 1000,
            "min": 0,
            "orientation": "horizontal",
            "style": "IPY_MODEL_42a329337df246758fc703ecfa989cbb",
            "value": 1000
          }
        },
        "f8866c40f6014aa8a24c48913817aabc": {
          "model_module": "@jupyter-widgets/controls",
          "model_name": "HTMLModel",
          "model_module_version": "1.5.0",
          "state": {
            "_dom_classes": [],
            "_model_module": "@jupyter-widgets/controls",
            "_model_module_version": "1.5.0",
            "_model_name": "HTMLModel",
            "_view_count": null,
            "_view_module": "@jupyter-widgets/controls",
            "_view_module_version": "1.5.0",
            "_view_name": "HTMLView",
            "description": "",
            "description_tooltip": null,
            "layout": "IPY_MODEL_057f8a8bcd3644ebb48ea1c49b97f62d",
            "placeholder": "​",
            "style": "IPY_MODEL_86db99b31ff54e86921f12f35d3efcd5",
            "value": " 1000/1000 [00:01&lt;00:00, 522.74 examples/s]"
          }
        },
        "78005764503e4a3da729392f239eabda": {
          "model_module": "@jupyter-widgets/base",
          "model_name": "LayoutModel",
          "model_module_version": "1.2.0",
          "state": {
            "_model_module": "@jupyter-widgets/base",
            "_model_module_version": "1.2.0",
            "_model_name": "LayoutModel",
            "_view_count": null,
            "_view_module": "@jupyter-widgets/base",
            "_view_module_version": "1.2.0",
            "_view_name": "LayoutView",
            "align_content": null,
            "align_items": null,
            "align_self": null,
            "border": null,
            "bottom": null,
            "display": null,
            "flex": null,
            "flex_flow": null,
            "grid_area": null,
            "grid_auto_columns": null,
            "grid_auto_flow": null,
            "grid_auto_rows": null,
            "grid_column": null,
            "grid_gap": null,
            "grid_row": null,
            "grid_template_areas": null,
            "grid_template_columns": null,
            "grid_template_rows": null,
            "height": null,
            "justify_content": null,
            "justify_items": null,
            "left": null,
            "margin": null,
            "max_height": null,
            "max_width": null,
            "min_height": null,
            "min_width": null,
            "object_fit": null,
            "object_position": null,
            "order": null,
            "overflow": null,
            "overflow_x": null,
            "overflow_y": null,
            "padding": null,
            "right": null,
            "top": null,
            "visibility": null,
            "width": null
          }
        },
        "0903e5b8217f47baad65e57e1d1c1e66": {
          "model_module": "@jupyter-widgets/base",
          "model_name": "LayoutModel",
          "model_module_version": "1.2.0",
          "state": {
            "_model_module": "@jupyter-widgets/base",
            "_model_module_version": "1.2.0",
            "_model_name": "LayoutModel",
            "_view_count": null,
            "_view_module": "@jupyter-widgets/base",
            "_view_module_version": "1.2.0",
            "_view_name": "LayoutView",
            "align_content": null,
            "align_items": null,
            "align_self": null,
            "border": null,
            "bottom": null,
            "display": null,
            "flex": null,
            "flex_flow": null,
            "grid_area": null,
            "grid_auto_columns": null,
            "grid_auto_flow": null,
            "grid_auto_rows": null,
            "grid_column": null,
            "grid_gap": null,
            "grid_row": null,
            "grid_template_areas": null,
            "grid_template_columns": null,
            "grid_template_rows": null,
            "height": null,
            "justify_content": null,
            "justify_items": null,
            "left": null,
            "margin": null,
            "max_height": null,
            "max_width": null,
            "min_height": null,
            "min_width": null,
            "object_fit": null,
            "object_position": null,
            "order": null,
            "overflow": null,
            "overflow_x": null,
            "overflow_y": null,
            "padding": null,
            "right": null,
            "top": null,
            "visibility": null,
            "width": null
          }
        },
        "a5bbc142d6724dbc973ebd213c83ec65": {
          "model_module": "@jupyter-widgets/controls",
          "model_name": "DescriptionStyleModel",
          "model_module_version": "1.5.0",
          "state": {
            "_model_module": "@jupyter-widgets/controls",
            "_model_module_version": "1.5.0",
            "_model_name": "DescriptionStyleModel",
            "_view_count": null,
            "_view_module": "@jupyter-widgets/base",
            "_view_module_version": "1.2.0",
            "_view_name": "StyleView",
            "description_width": ""
          }
        },
        "8964a67e5d1246eb94a59b321e490cf4": {
          "model_module": "@jupyter-widgets/base",
          "model_name": "LayoutModel",
          "model_module_version": "1.2.0",
          "state": {
            "_model_module": "@jupyter-widgets/base",
            "_model_module_version": "1.2.0",
            "_model_name": "LayoutModel",
            "_view_count": null,
            "_view_module": "@jupyter-widgets/base",
            "_view_module_version": "1.2.0",
            "_view_name": "LayoutView",
            "align_content": null,
            "align_items": null,
            "align_self": null,
            "border": null,
            "bottom": null,
            "display": null,
            "flex": null,
            "flex_flow": null,
            "grid_area": null,
            "grid_auto_columns": null,
            "grid_auto_flow": null,
            "grid_auto_rows": null,
            "grid_column": null,
            "grid_gap": null,
            "grid_row": null,
            "grid_template_areas": null,
            "grid_template_columns": null,
            "grid_template_rows": null,
            "height": null,
            "justify_content": null,
            "justify_items": null,
            "left": null,
            "margin": null,
            "max_height": null,
            "max_width": null,
            "min_height": null,
            "min_width": null,
            "object_fit": null,
            "object_position": null,
            "order": null,
            "overflow": null,
            "overflow_x": null,
            "overflow_y": null,
            "padding": null,
            "right": null,
            "top": null,
            "visibility": null,
            "width": null
          }
        },
        "42a329337df246758fc703ecfa989cbb": {
          "model_module": "@jupyter-widgets/controls",
          "model_name": "ProgressStyleModel",
          "model_module_version": "1.5.0",
          "state": {
            "_model_module": "@jupyter-widgets/controls",
            "_model_module_version": "1.5.0",
            "_model_name": "ProgressStyleModel",
            "_view_count": null,
            "_view_module": "@jupyter-widgets/base",
            "_view_module_version": "1.2.0",
            "_view_name": "StyleView",
            "bar_color": null,
            "description_width": ""
          }
        },
        "057f8a8bcd3644ebb48ea1c49b97f62d": {
          "model_module": "@jupyter-widgets/base",
          "model_name": "LayoutModel",
          "model_module_version": "1.2.0",
          "state": {
            "_model_module": "@jupyter-widgets/base",
            "_model_module_version": "1.2.0",
            "_model_name": "LayoutModel",
            "_view_count": null,
            "_view_module": "@jupyter-widgets/base",
            "_view_module_version": "1.2.0",
            "_view_name": "LayoutView",
            "align_content": null,
            "align_items": null,
            "align_self": null,
            "border": null,
            "bottom": null,
            "display": null,
            "flex": null,
            "flex_flow": null,
            "grid_area": null,
            "grid_auto_columns": null,
            "grid_auto_flow": null,
            "grid_auto_rows": null,
            "grid_column": null,
            "grid_gap": null,
            "grid_row": null,
            "grid_template_areas": null,
            "grid_template_columns": null,
            "grid_template_rows": null,
            "height": null,
            "justify_content": null,
            "justify_items": null,
            "left": null,
            "margin": null,
            "max_height": null,
            "max_width": null,
            "min_height": null,
            "min_width": null,
            "object_fit": null,
            "object_position": null,
            "order": null,
            "overflow": null,
            "overflow_x": null,
            "overflow_y": null,
            "padding": null,
            "right": null,
            "top": null,
            "visibility": null,
            "width": null
          }
        },
        "86db99b31ff54e86921f12f35d3efcd5": {
          "model_module": "@jupyter-widgets/controls",
          "model_name": "DescriptionStyleModel",
          "model_module_version": "1.5.0",
          "state": {
            "_model_module": "@jupyter-widgets/controls",
            "_model_module_version": "1.5.0",
            "_model_name": "DescriptionStyleModel",
            "_view_count": null,
            "_view_module": "@jupyter-widgets/base",
            "_view_module_version": "1.2.0",
            "_view_name": "StyleView",
            "description_width": ""
          }
        }
      }
    }
  },
  "nbformat": 4,
  "nbformat_minor": 5
}